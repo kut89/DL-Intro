{
 "cells": [
  {
   "cell_type": "code",
   "execution_count": 41,
   "metadata": {},
   "outputs": [],
   "source": [
    "def neural_network(input, weights):\n",
    "    pred = w_sum(input, weights)\n",
    "    return pred"
   ]
  },
  {
   "cell_type": "code",
   "execution_count": 42,
   "metadata": {},
   "outputs": [],
   "source": [
    "def ele_mul(scalar, vector):\n",
    "    output = [0, 0, 0]\n",
    "    assert(len(output) == len(vector))\n",
    "    for i in range(len(vector)):\n",
    "        output[i] = scalar * vector[i]\n",
    "    return output"
   ]
  },
  {
   "cell_type": "code",
   "execution_count": 43,
   "metadata": {},
   "outputs": [],
   "source": [
    "def w_sum(a, b):\n",
    "    assert(len(a) == len(b))\n",
    "    output = 0\n",
    "    for i in range(len(a)):\n",
    "        output += (a[i] * b[i])\n",
    "    return output"
   ]
  },
  {
   "cell_type": "code",
   "execution_count": 44,
   "metadata": {},
   "outputs": [],
   "source": [
    "toes =[8.5, 9.5, 9.9, 9.0]\n",
    "wlrec = [0.65, 0.8, 0.8, 0.9]\n",
    "nfans = [1.2, 1.3, 0.5, 1.0]"
   ]
  },
  {
   "cell_type": "code",
   "execution_count": 45,
   "metadata": {},
   "outputs": [],
   "source": [
    "win_or_loss_binary = [1, 1, 0, 1]\n",
    "truth = win_or_loss_binary [0]"
   ]
  },
  {
   "cell_type": "code",
   "execution_count": 46,
   "metadata": {},
   "outputs": [],
   "source": [
    "weights = [0.1, 0.2, -.01]\n",
    "alpha = 0.01\n",
    "input = [toes[0], wlrec[0], nfans[0]]"
   ]
  },
  {
   "cell_type": "code",
   "execution_count": 51,
   "metadata": {},
   "outputs": [
    {
     "name": "stdout",
     "output_type": "stream",
     "text": [
      "___________\n",
      "Iteration :1\n",
      "Prediction :0.973112011348284\n",
      "Error :0.0007229639337348108\n",
      "Delta :-0.026887988651716044\n",
      "Weights :[0.1, 0.2, -0.005417334679276146]\n",
      "Weight_Deltas :[-0.22854790353958637, -0.01747719262361543, -0.03226558638205925]\n",
      "___________\n",
      "Iteration :2\n",
      "Prediction :0.9734991983848688\n",
      "Error :0.0007022924862445427\n",
      "Delta :-0.026500801615131242\n",
      "Weights :[0.1, 0.2, -0.005099325059894571]\n",
      "Weight_Deltas :[-0.22525681372861556, -0.017225521049835307, -0.03180096193815749]\n",
      "___________\n",
      "Iteration :3\n",
      "Prediction :0.9738808099281266\n",
      "Error :0.0006822120900106477\n",
      "Delta :-0.026119190071873355\n",
      "Weights :[0.1, 0.2, -0.004785894779032091]\n",
      "Weight_Deltas :[-0.22201311561092352, -0.01697747354671768, -0.031343028086248025]\n"
     ]
    }
   ],
   "source": [
    "for iter in range(3):\n",
    "    pred = neural_network(input, weights)\n",
    "    error = (pred - truth) ** 2\n",
    "    delta = pred -  truth\n",
    "    weight_deltas = ele_mul(delta, input)\n",
    "    weights[i] -= alpha * weight_deltas[i]\n",
    "    print(\"___________\")\n",
    "    print(\"Iteration :\" + str(iter+1))\n",
    "    print(\"Prediction :\" + str(pred))\n",
    "    print(\"Error :\" + str(error))\n",
    "    print(\"Delta :\" + str(delta))\n",
    "    print(\"Weights :\" +str(weights))\n",
    "    print(\"Weight_Deltas :\" +str(weight_deltas))"
   ]
  },
  {
   "cell_type": "code",
   "execution_count": null,
   "metadata": {},
   "outputs": [],
   "source": []
  }
 ],
 "metadata": {
  "anaconda-cloud": {},
  "kernelspec": {
   "display_name": "Python 3",
   "language": "python",
   "name": "python3"
  },
  "language_info": {
   "codemirror_mode": {
    "name": "ipython",
    "version": 3
   },
   "file_extension": ".py",
   "mimetype": "text/x-python",
   "name": "python",
   "nbconvert_exporter": "python",
   "pygments_lexer": "ipython3",
   "version": "3.6.7"
  }
 },
 "nbformat": 4,
 "nbformat_minor": 2
}
