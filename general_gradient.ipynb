{
 "cells": [
  {
   "cell_type": "code",
   "execution_count": 41,
   "metadata": {},
   "outputs": [],
   "source": [
    "import numpy as np"
   ]
  },
  {
   "cell_type": "code",
   "execution_count": 42,
   "metadata": {},
   "outputs": [],
   "source": [
    "                    #toes, wlrec, nfans\n",
    "weights = [[0.1, 0.1, -0.3],     #けが？\n",
    "                    [0.1, 0.2, 0.0],     #勝った？\n",
    "                    [0.0, 1.3, 0.1]]     #悲しい？"
   ]
  },
  {
   "cell_type": "code",
   "execution_count": 43,
   "metadata": {},
   "outputs": [],
   "source": [
    "toes = [8.5,  9.5, 9.9, 9.0]\n",
    "wrelc  = [0.65, 0.8, 0.8, 0.9]\n",
    "nfans = [1.2, 1.3, 0.5, 1.0]"
   ]
  },
  {
   "cell_type": "code",
   "execution_count": 44,
   "metadata": {},
   "outputs": [],
   "source": [
    "def w_sum(a, b):\n",
    "    assert(len(a) == len(b))\n",
    "    output = 0\n",
    "    for i in range(len(a)):\n",
    "        output += (a[i] * b[i])\n",
    "    return output"
   ]
  },
  {
   "cell_type": "code",
   "execution_count": 45,
   "metadata": {},
   "outputs": [],
   "source": [
    "def vect_mat_mul(vect, matrix):\n",
    "    assert(len(vect) == len(matrix))\n",
    "    output = [0, 0, 0]\n",
    "    for i in range(len(vect)):\n",
    "        output[i] = w_sum(vect, matrix[i])\n",
    "    return output"
   ]
  },
  {
   "cell_type": "code",
   "execution_count": 46,
   "metadata": {},
   "outputs": [],
   "source": [
    "def neural_network(input, weights):\n",
    "    pred = vect_mat_mul(input, weights)\n",
    "    return pred"
   ]
  },
  {
   "cell_type": "code",
   "execution_count": 47,
   "metadata": {},
   "outputs": [],
   "source": [
    "toes  = [8.5, 9.5, 9.9, 9.0]\n",
    "wlrec = [0.65, 0.8, 0.8, 0.9]\n",
    "sad = [0.1, 0.0, 0.1, 0.2]"
   ]
  },
  {
   "cell_type": "code",
   "execution_count": 48,
   "metadata": {},
   "outputs": [],
   "source": [
    "alpha = 0.01"
   ]
  },
  {
   "cell_type": "code",
   "execution_count": 49,
   "metadata": {},
   "outputs": [],
   "source": [
    "input = [toes[0], wlrec[0], nfans[0]]\n",
    "truth = [hurt[0], win[0], sad[0]]"
   ]
  },
  {
   "cell_type": "code",
   "execution_count": 50,
   "metadata": {},
   "outputs": [],
   "source": [
    "pred = neural_network(input, weights)"
   ]
  },
  {
   "cell_type": "code",
   "execution_count": 51,
   "metadata": {},
   "outputs": [],
   "source": [
    "error = [0, 0, 0]\n",
    "delta = [0, 0, 0]"
   ]
  },
  {
   "cell_type": "code",
   "execution_count": 68,
   "metadata": {},
   "outputs": [
    {
     "name": "stdout",
     "output_type": "stream",
     "text": [
      "[0.45500000000000007, -0.019999999999999907, 0.8650000000000001]\n",
      "[0.45500000000000007, -0.019999999999999907, 0.8650000000000001]\n",
      "[0.45500000000000007, -0.019999999999999907, 0.8650000000000001]\n"
     ]
    }
   ],
   "source": [
    "for i in range(len(truth)):\n",
    "    error[i] = (pred[i] - truth[i]) ** 2\n",
    "    delta[i] = pred[i] - truth[i]\n",
    "    print(delta)"
   ]
  },
  {
   "cell_type": "code",
   "execution_count": 98,
   "metadata": {},
   "outputs": [],
   "source": [
    "def outer_prod(a, b):\n",
    "    out = np.zeros((len(a), len(b)))\n",
    "#     ↑np.zeros(3,3)では動かない！np.zeros((3,3))にする必要あり！(本は間違ってる)\n",
    "    for i in range(len(a)):\n",
    "        for  j in range(len(b)):\n",
    "            out[i][j] = a[i] * b[j]\n",
    "            print(\"out[{}][{}] :\".format(i, j)  + str(out[i][j]))\n",
    "    return out"
   ]
  },
  {
   "cell_type": "code",
   "execution_count": 99,
   "metadata": {},
   "outputs": [
    {
     "name": "stdout",
     "output_type": "stream",
     "text": [
      "out[0][0] :3.8675000000000006\n",
      "out[0][1] :-0.1699999999999992\n",
      "out[0][2] :7.352500000000001\n",
      "out[1][0] :0.29575000000000007\n",
      "out[1][1] :-0.01299999999999994\n",
      "out[1][2] :0.5622500000000001\n",
      "out[2][0] :0.546\n",
      "out[2][1] :-0.023999999999999886\n",
      "out[2][2] :1.038\n",
      "[[ 3.8675  -0.17     7.3525 ]\n",
      " [ 0.29575 -0.013    0.56225]\n",
      " [ 0.546   -0.024    1.038  ]]\n"
     ]
    }
   ],
   "source": [
    "# 各weight_deltaを計算し、それぞれの重みに適応\n",
    "weight_deltas = outer_prod(input, delta)\n",
    "print(weight_deltas)"
   ]
  },
  {
   "cell_type": "code",
   "execution_count": 100,
   "metadata": {},
   "outputs": [
    {
     "name": "stdout",
     "output_type": "stream",
     "text": [
      "weight[0][0]:-0.32542500000000013\n",
      "weight[0][1]:0.11699999999999994\n",
      "weight[0][2]:-1.0352500000000004\n",
      "weight[1][0]:0.07042499999999999\n",
      "weight[1][1]:0.20129999999999992\n",
      "weight[1][2]:-0.05622500000000002\n",
      "weight[2][0]:-0.0546\n",
      "weight[2][1]:1.3024000000000002\n",
      "weight[2][2]:-0.003799999999999998\n",
      "[[-0.32542500000000013, 0.11699999999999994, -1.0352500000000004], [0.07042499999999999, 0.20129999999999992, -0.05622500000000002], [-0.0546, 1.3024000000000002, -0.003799999999999998]]\n"
     ]
    }
   ],
   "source": [
    "# 重みを更新\n",
    "for i in range(len(weights)):\n",
    "    for j in range(len(weights[0])):\n",
    "        weights[i][j] -= alpha * weight_deltas[i][j]\n",
    "        print(\"weight[{}][{}]:\".format(i, j)   +str(weights[i][j]))\n",
    "print(weights)"
   ]
  },
  {
   "cell_type": "code",
   "execution_count": null,
   "metadata": {},
   "outputs": [],
   "source": []
  },
  {
   "cell_type": "code",
   "execution_count": null,
   "metadata": {},
   "outputs": [],
   "source": []
  }
 ],
 "metadata": {
  "anaconda-cloud": {},
  "kernelspec": {
   "display_name": "Python 3",
   "language": "python",
   "name": "python3"
  },
  "language_info": {
   "codemirror_mode": {
    "name": "ipython",
    "version": 3
   },
   "file_extension": ".py",
   "mimetype": "text/x-python",
   "name": "python",
   "nbconvert_exporter": "python",
   "pygments_lexer": "ipython3",
   "version": "3.6.7"
  }
 },
 "nbformat": 4,
 "nbformat_minor": 2
}
