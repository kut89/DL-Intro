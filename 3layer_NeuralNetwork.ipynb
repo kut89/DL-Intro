{
 "cells": [
  {
   "cell_type": "code",
   "execution_count": 82,
   "metadata": {},
   "outputs": [],
   "source": [
    "import numpy as np"
   ]
  },
  {
   "cell_type": "code",
   "execution_count": 83,
   "metadata": {},
   "outputs": [],
   "source": [
    "np.random.seed(1)"
   ]
  },
  {
   "cell_type": "code",
   "execution_count": 84,
   "metadata": {},
   "outputs": [],
   "source": [
    "# x > 0の場合はxを返し、それ以外の場合は0を返す\n",
    "def relu(x):\n",
    "    return (x > 0) * x"
   ]
  },
  {
   "cell_type": "code",
   "execution_count": 85,
   "metadata": {},
   "outputs": [],
   "source": [
    "# output > 0の場合は1を返し、それ以外の場合は0を返す\n",
    "def relu2deriv(output):\n",
    "    return output > 0"
   ]
  },
  {
   "cell_type": "code",
   "execution_count": 86,
   "metadata": {},
   "outputs": [
    {
     "name": "stdout",
     "output_type": "stream",
     "text": [
      "↓W_vs_S\n",
      "[[1]\n",
      " [1]\n",
      " [0]\n",
      " [0]]\n"
     ]
    }
   ],
   "source": [
    "streetlights = np.array([[1, 0, 1],\n",
    "                                        [0, 1, 1],\n",
    "                                        [0, 0, 1],\n",
    "                                        [1, 1, 1]])\n",
    "walk_vs_stop = np.array([[1, 1, 0, 0]]).T\n",
    "print(\"↓W_vs_S\")\n",
    "print(walk_vs_stop)"
   ]
  },
  {
   "cell_type": "code",
   "execution_count": 87,
   "metadata": {},
   "outputs": [],
   "source": [
    "alpha = 0.2\n",
    "hidden_size =4"
   ]
  },
  {
   "cell_type": "code",
   "execution_count": 88,
   "metadata": {},
   "outputs": [],
   "source": [
    "weights_0_1  = 2 * np.random.random((3, hidden_size)) -1\n",
    "# print(\"Weigth_0_1  :\" + str(weight_0_1))\n",
    "weights_1_2 = 2 * np.random.random((hidden_size, 1))  -1\n",
    "# print(\"Weigth_1_2  :\" + str(weight_1_2))"
   ]
  },
  {
   "cell_type": "code",
   "execution_count": 89,
   "metadata": {},
   "outputs": [
    {
     "name": "stdout",
     "output_type": "stream",
     "text": [
      "Error :0.6342311598444467\n",
      "Error :0.35838407676317513\n",
      "Error :0.0830183113303298\n",
      "Error :0.006467054957103705\n",
      "Error :0.0003292669000750734\n",
      "Error :1.5055622665134859e-05\n"
     ]
    }
   ],
   "source": [
    "for iteration in range(60):\n",
    "    layer_2_error = 0\n",
    "#     print(\"+++++++ITERATION+++++++\")\n",
    "    for i in range(len(streetlights)):\n",
    "#         ↓(1,3)の入れ子行列[[1,0,1]]にするために[i:i+1]にしている. [i]だと[1,0,1]みたいになる\n",
    "        layer_0 = streetlights[i : i +1]\n",
    "#         print(\"_________Layer{}\".format(i))\n",
    "#         print(\"layer_0 :\" +str(layer_0))\n",
    "        layer_1 = relu(np.dot(layer_0, weights_0_1))\n",
    "        layer_2 = np.dot(layer_1, weights_1_2)\n",
    "        layer_2_error += np.sum((layer_2 - walk_vs_stop[i :  i+1]) ** 2)\n",
    "#         layer2のdeltaはpred-goal_predと同様に出せる\n",
    "        layer_2_delta = (layer_2 - walk_vs_stop[i : i+1])\n",
    "#         layer1のdeltaは出力層のdeltaに重みを加重計算することで導く(誤差逆伝搬法). 転置は逆計算なのでベクトルを合わせるために使用\n",
    "        layer_1_delta = layer_2_delta.dot(weights_1_2.T) * relu2deriv(layer_1)\n",
    "        weights_1_2 -= alpha * layer_1.T.dot(layer_2_delta)\n",
    "        weights_0_1 -= alpha * layer_0.T.dot(layer_1_delta)\n",
    "    if(iteration % 10 == 9):\n",
    "            print(\"Error :\" + str(layer_2_error))"
   ]
  },
  {
   "cell_type": "code",
   "execution_count": null,
   "metadata": {},
   "outputs": [],
   "source": []
  }
 ],
 "metadata": {
  "anaconda-cloud": {},
  "kernelspec": {
   "display_name": "Python 3",
   "language": "python",
   "name": "python3"
  },
  "language_info": {
   "codemirror_mode": {
    "name": "ipython",
    "version": 3
   },
   "file_extension": ".py",
   "mimetype": "text/x-python",
   "name": "python",
   "nbconvert_exporter": "python",
   "pygments_lexer": "ipython3",
   "version": "3.6.7"
  }
 },
 "nbformat": 4,
 "nbformat_minor": 2
}
