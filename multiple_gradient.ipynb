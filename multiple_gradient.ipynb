{
 "cells": [
  {
   "cell_type": "code",
   "execution_count": 53,
   "metadata": {},
   "outputs": [],
   "source": [
    "def neural_network(input, weights):\n",
    "    pred = w_sum(input, weights)\n",
    "    return pred"
   ]
  },
  {
   "cell_type": "code",
   "execution_count": 54,
   "metadata": {},
   "outputs": [],
   "source": [
    "def ele_mul(scalar, vector):\n",
    "    output = [0, 0, 0]\n",
    "    assert(len(output) == len(vector))\n",
    "    for i in range(len(vector)):\n",
    "        output[i] = scalar * vector[i]\n",
    "    return output"
   ]
  },
  {
   "cell_type": "code",
   "execution_count": 55,
   "metadata": {},
   "outputs": [],
   "source": [
    "def w_sum(a, b):\n",
    "    assert(len(a) == len(b))\n",
    "    output = 0\n",
    "    for i in range(len(a)):\n",
    "        output += (a[i] * b[i])\n",
    "    return output"
   ]
  },
  {
   "cell_type": "code",
   "execution_count": 56,
   "metadata": {},
   "outputs": [],
   "source": [
    "toes =[8.5, 9.5, 9.9, 9.0]\n",
    "wlrec = [0.65, 0.8, 0.8, 0.9]\n",
    "nfans = [1.2, 1.3, 0.5, 1.0]"
   ]
  },
  {
   "cell_type": "code",
   "execution_count": 57,
   "metadata": {},
   "outputs": [],
   "source": [
    "win_or_loss_binary = [1, 1, 0, 1]\n",
    "truth = win_or_loss_binary [0]"
   ]
  },
  {
   "cell_type": "code",
   "execution_count": 61,
   "metadata": {},
   "outputs": [],
   "source": [
    "weights = [0.1, 0.2, -.01]\n",
    "alpha = 0.01\n",
    "# alpha = 0.3\n",
    "input = [toes[0], wlrec[0], nfans[0]]"
   ]
  },
  {
   "cell_type": "code",
   "execution_count": 62,
   "metadata": {},
   "outputs": [
    {
     "name": "stdout",
     "output_type": "stream",
     "text": [
      "___________\n",
      "Iteration :1\n",
      "Prediction :0.9680000000000001\n",
      "Error :0.0010239999999999947\n",
      "Delta :-0.03199999999999992\n",
      "Weights :[0.1, 0.2, -0.009616000000000001]\n",
      "Weight_Deltas :[-0.2719999999999993, -0.020799999999999947, -0.0383999999999999]\n",
      "___________\n",
      "Iteration :2\n",
      "Prediction :0.9684608000000001\n",
      "Error :0.0009947211366399923\n",
      "Delta :-0.03153919999999988\n",
      "Weights :[0.1, 0.2, -0.009237529600000002]\n",
      "Weight_Deltas :[-0.26808319999999897, -0.02050047999999992, -0.03784703999999985]\n",
      "___________\n",
      "Iteration :3\n",
      "Prediction :0.9689149644800001\n",
      "Error :0.0009662794332796529\n",
      "Delta :-0.03108503551999986\n",
      "Weights :[0.1, 0.2, -0.008864509173760004]\n",
      "Weight_Deltas :[-0.2642228019199988, -0.02020527308799991, -0.03730204262399983]\n",
      "___________\n",
      "Iteration :4\n",
      "Prediction :0.9693625889914881\n",
      "Error :0.0009386509533044872\n",
      "Delta :-0.030637411008511917\n",
      "Weights :[0.1, 0.2, -0.00849686024165786]\n",
      "Weight_Deltas :[-0.2604179935723513, -0.019914317155532747, -0.0367648932102143]\n"
     ]
    }
   ],
   "source": [
    "for iter in range(4):\n",
    "    pred = neural_network(input, weights)\n",
    "    error = (pred - truth) ** 2\n",
    "    delta = pred -  truth\n",
    "    weight_deltas = ele_mul(delta, input)\n",
    "#     weight_deltas[0] = 0\n",
    "# ↑重みの固定\n",
    "    weights[i] -= alpha * weight_deltas[i]\n",
    "    print(\"___________\")\n",
    "    print(\"Iteration :\" + str(iter+1))\n",
    "    print(\"Prediction :\" + str(pred))\n",
    "    print(\"Error :\" + str(error))\n",
    "    print(\"Delta :\" + str(delta))\n",
    "    print(\"Weights :\" +str(weights))\n",
    "    print(\"Weight_Deltas :\" +str(weight_deltas))"
   ]
  },
  {
   "cell_type": "code",
   "execution_count": null,
   "metadata": {},
   "outputs": [],
   "source": []
  }
 ],
 "metadata": {
  "anaconda-cloud": {},
  "kernelspec": {
   "display_name": "Python 3",
   "language": "python",
   "name": "python3"
  },
  "language_info": {
   "codemirror_mode": {
    "name": "ipython",
    "version": 3
   },
   "file_extension": ".py",
   "mimetype": "text/x-python",
   "name": "python",
   "nbconvert_exporter": "python",
   "pygments_lexer": "ipython3",
   "version": "3.6.7"
  }
 },
 "nbformat": 4,
 "nbformat_minor": 2
}
