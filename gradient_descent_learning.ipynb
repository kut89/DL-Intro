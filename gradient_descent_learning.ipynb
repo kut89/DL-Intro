{
 "cells": [
  {
   "cell_type": "code",
   "execution_count": 4,
   "metadata": {},
   "outputs": [
    {
     "name": "stdout",
     "output_type": "stream",
     "text": [
      "Error :0.03999999999999998/Prediction :1.0\n",
      "Delta0.19999999999999996/Weight_Delta0.3999999999999999\n",
      "_______\n",
      "Error :0.0144/Prediction :0.92\n",
      "Delta0.12/Weight_Delta0.24\n",
      "_______\n",
      "Error :0.005183999999999993/Prediction :0.872\n",
      "Delta0.07199999999999995/Weight_Delta0.1439999999999999\n",
      "_______\n",
      "Error :0.0018662400000000014/Prediction :0.8432000000000001\n",
      "Delta0.043200000000000016/Weight_Delta0.08640000000000003\n",
      "_______\n",
      "Error :0.0006718464000000028/Prediction :0.8259200000000001\n",
      "Delta0.025920000000000054/Weight_Delta0.05184000000000011\n",
      "_______\n",
      "Error :0.00024186470400000033/Prediction :0.815552\n",
      "Delta0.01555200000000001/Weight_Delta0.03110400000000002\n",
      "_______\n",
      "Error :8.70712934399997e-05/Prediction :0.8093312\n",
      "Delta0.009331199999999984/Weight_Delta0.018662399999999968\n",
      "_______\n",
      "Error :3.134566563839939e-05/Prediction :0.80559872\n",
      "Delta0.005598719999999946/Weight_Delta0.011197439999999892\n",
      "_______\n",
      "Error :1.1284439629823931e-05/Prediction :0.803359232\n",
      "Delta0.0033592319999999898/Weight_Delta0.0067184639999999796\n",
      "_______\n",
      "Error :4.062398266736526e-06/Prediction :0.8020155392\n",
      "Delta0.0020155391999999717/Weight_Delta0.004031078399999943\n",
      "_______\n",
      "Error :1.4624633760252567e-06/Prediction :0.8012093235200001\n",
      "Delta0.0012093235200000274/Weight_Delta0.002418647040000055\n",
      "_______\n",
      "Error :5.264868153690924e-07/Prediction :0.8007255941120001\n",
      "Delta0.0007255941120000164/Weight_Delta0.0014511882240000329\n",
      "_______\n",
      "Error :1.8953525353291194e-07/Prediction :0.8004353564672001\n",
      "Delta0.0004353564672000543/Weight_Delta0.0008707129344001086\n",
      "_______\n",
      "Error :6.82326912718715e-08/Prediction :0.8002612138803201\n",
      "Delta0.000261213880320077/Weight_Delta0.000522427760640154\n",
      "_______\n",
      "Error :2.456376885786678e-08/Prediction :0.8001567283281921\n",
      "Delta0.00015672832819202398/Weight_Delta0.00031345665638404796\n",
      "_______\n",
      "Error :8.842956788836216e-09/Prediction :0.8000940369969153\n",
      "Delta9.403699691523659e-05/Weight_Delta0.00018807399383047319\n",
      "_______\n",
      "Error :3.1834644439835434e-09/Prediction :0.8000564221981492\n",
      "Delta5.642219814916416e-05/Weight_Delta0.00011284439629832832\n",
      "_______\n",
      "Error :1.1460471998340758e-09/Prediction :0.8000338533188895\n",
      "Delta3.3853318889498496e-05/Weight_Delta6.770663777899699e-05\n",
      "_______\n",
      "Error :4.125769919393652e-10/Prediction :0.8000203119913337\n",
      "Delta2.0311991333676893e-05/Weight_Delta4.0623982667353786e-05\n",
      "_______\n",
      "Error :1.485277170987127e-10/Prediction :0.8000121871948003\n",
      "Delta1.218719480022834e-05/Weight_Delta2.437438960045668e-05\n",
      "_______\n"
     ]
    }
   ],
   "source": [
    "weight  = 0.5\n",
    "goal_pred = 0.8\n",
    "input = 2\n",
    "alpha = 0.1\n",
    "\n",
    "for iteration in range(20):\n",
    "    pred = input * weight\n",
    "    error = (pred - goal_pred) ** 2\n",
    "    delta = pred - goal_pred\n",
    "#     デルタは生の誤差\n",
    "    weight_delta = delta * input\n",
    "#     生の誤差を修正したものがweight_deltaであり、微分係数である\n",
    "    weight = weight - (weight_delta *alpha)\n",
    "#     学習率(alpha)をかけることで発散を抑える\n",
    "    \n",
    "    print(\"Error :\" + str(error) + \"/Prediction :\" +str(pred))\n",
    "    print(\"Delta\" + str(delta) + \"/Weight_Delta\" + str(weight_delta))\n",
    "    print(\"_______\")"
   ]
  },
  {
   "cell_type": "code",
   "execution_count": null,
   "metadata": {},
   "outputs": [],
   "source": []
  }
 ],
 "metadata": {
  "anaconda-cloud": {},
  "kernelspec": {
   "display_name": "Python 3",
   "language": "python",
   "name": "python3"
  },
  "language_info": {
   "codemirror_mode": {
    "name": "ipython",
    "version": 3
   },
   "file_extension": ".py",
   "mimetype": "text/x-python",
   "name": "python",
   "nbconvert_exporter": "python",
   "pygments_lexer": "ipython3",
   "version": "3.6.7"
  }
 },
 "nbformat": 4,
 "nbformat_minor": 2
}
